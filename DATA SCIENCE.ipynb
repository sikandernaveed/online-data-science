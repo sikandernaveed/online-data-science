{
 "cells": [
  {
   "cell_type": "code",
   "execution_count": 1,
   "id": "2dc2e744",
   "metadata": {},
   "outputs": [
    {
     "name": "stdout",
     "output_type": "stream",
     "text": [
      "Twinkle,Twinkle little star \n",
      " \t How i wounder how you are! \n",
      "\t\t Up above this world so high, \n",
      "\t\t Like dimond in the sky. \n",
      " Twinkle,Twinkle little star \n",
      "\t How i wounder how you are\n"
     ]
    }
   ],
   "source": [
    "#1. Write a Python program to print the following string in a specific format (see theoutput).\n",
    "\"\"\"\n",
    "Twinkle, twinkle, little star,\n",
    "How I wonder what you are!\n",
    "Up above the world so high,\n",
    "Like a diamond in the sky.\n",
    "Twinkle, twinkle, little star,\n",
    "How I wonder what you are\n",
    "\"\"\"\n",
    "\n",
    "print(\"Twinkle,Twinkle little star \\n \\t How i wounder how you are! \\n\\t\\t Up above this world so high, \\n\\t\\t Like dimond in the sky. \\n Twinkle,Twinkle little star \\n\\t How i wounder how you are\")\n"
   ]
  },
  {
   "cell_type": "code",
   "execution_count": 2,
   "id": "66aa6a5c",
   "metadata": {},
   "outputs": [
    {
     "name": "stdout",
     "output_type": "stream",
     "text": [
      "THE CURRENT VERSION IM USING IS ::  3.8.8\n"
     ]
    }
   ],
   "source": [
    "#Q2. Write a Python program to get the Python version you are using\n",
    "import platform\n",
    "print(\"THE CURRENT VERSION IM USING IS :: \",platform.python_version())"
   ]
  },
  {
   "cell_type": "code",
   "execution_count": 3,
   "id": "2985654d",
   "metadata": {},
   "outputs": [
    {
     "name": "stdout",
     "output_type": "stream",
     "text": [
      "THE CURRENT DATE AND TIME IS :::  2021-12-31 15:52:55.475387\n"
     ]
    }
   ],
   "source": [
    "#Q3. Write a Python program to display the current date and time.\n",
    "import datetime\n",
    "now=datetime.datetime.now()\n",
    "print(\"THE CURRENT DATE AND TIME IS ::: \",now)\n"
   ]
  },
  {
   "cell_type": "code",
   "execution_count": 4,
   "id": "4e40816e",
   "metadata": {},
   "outputs": [
    {
     "name": "stdout",
     "output_type": "stream",
     "text": [
      "ENTER THE RADIOUS OF CIRCLE : 23\n",
      "THE AREA OF CIRCLE IS ::  1587.0\n"
     ]
    }
   ],
   "source": [
    "#Q4. Write a Python program which accepts the radius of a circle from the user and compute the area.\n",
    "radious=float(input(\"ENTER THE RADIOUS OF CIRCLE : \"))\n",
    "pi=int(3.14)\n",
    "AREA=pi*radious**2\n",
    "print(\"THE AREA OF CIRCLE IS :: \",AREA)"
   ]
  },
  {
   "cell_type": "code",
   "execution_count": 6,
   "id": "ccaa5602",
   "metadata": {},
   "outputs": [
    {
     "name": "stdout",
     "output_type": "stream",
     "text": [
      "please enter your first name:SIKANDER\n",
      "please enter your last name:NAVEED\n",
      "THE FULL NAME IS:: SIKANDERNAVEED\n",
      "THE REVERSE NAME IS  NAVEED SIKANDER\n"
     ]
    }
   ],
   "source": [
    "#Q5. Write a Python program which accepts the user's first and last name and print them inreverse order with a space between them.\n",
    "firstname=input(\"please enter your first name:\")\n",
    "lastname=input(\"please enter your last name:\")\n",
    "name = firstname + lastname\n",
    "print(\"THE FULL NAME IS ::\", name)\n",
    "print(\"THE REVERSE NAME IS \",lastname,firstname)"
   ]
  },
  {
   "cell_type": "code",
   "execution_count": 8,
   "id": "31b38f4e",
   "metadata": {},
   "outputs": [
    {
     "name": "stdout",
     "output_type": "stream",
     "text": [
      "Please Enter The 1st Number :: 342\n",
      "Please Enter The 2nd Number :: 34222\n",
      "THE TOTAL SUM IS =  34564\n"
     ]
    }
   ],
   "source": [
    "#Q6. Write a python program which takes two inputs from user and print them addition\n",
    "x=int(input(\"Please Enter The 1st Number :: \"))\n",
    "y=int(input(\"Please Enter The 2nd Number :: \"))\n",
    "ADD=x+y\n",
    "print(\"THE TOTAL SUM IS = \",ADD)"
   ]
  },
  {
   "cell_type": "code",
   "execution_count": null,
   "id": "8cc4fb4d",
   "metadata": {},
   "outputs": [],
   "source": []
  }
 ],
 "metadata": {
  "kernelspec": {
   "display_name": "Python 3",
   "language": "python",
   "name": "python3"
  },
  "language_info": {
   "codemirror_mode": {
    "name": "ipython",
    "version": 3
   },
   "file_extension": ".py",
   "mimetype": "text/x-python",
   "name": "python",
   "nbconvert_exporter": "python",
   "pygments_lexer": "ipython3",
   "version": "3.8.8"
  }
 },
 "nbformat": 4,
 "nbformat_minor": 5
}
